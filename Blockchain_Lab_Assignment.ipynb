{
  "nbformat": 4,
  "nbformat_minor": 0,
  "metadata": {
    "colab": {
      "name": "Blockchain Lab Assignment.ipynb",
      "provenance": [],
      "include_colab_link": true
    },
    "kernelspec": {
      "name": "python3",
      "display_name": "Python 3"
    }
  },
  "cells": [
    {
      "cell_type": "markdown",
      "metadata": {
        "id": "view-in-github",
        "colab_type": "text"
      },
      "source": [
        "<a href=\"https://colab.research.google.com/github/thecrazyphysicist369/Basic-Blockchain-Implementaion/blob/main/Blockchain_Lab_Assignment.ipynb\" target=\"_parent\"><img src=\"https://colab.research.google.com/assets/colab-badge.svg\" alt=\"Open In Colab\"/></a>"
      ]
    },
    {
      "cell_type": "markdown",
      "metadata": {
        "id": "TO09PZ1px-ze"
      },
      "source": [
        "#Demonstrating a Blockchain\r\n"
      ]
    },
    {
      "cell_type": "code",
      "metadata": {
        "id": "RYkG_QJVyEHB"
      },
      "source": [
        "#importing the necessary packages\r\n",
        "import copy #this is required to fork a chain\r\n",
        "import datetime #for real time timestamps\r\n",
        "import hashlib #for using the hash function"
      ],
      "execution_count": null,
      "outputs": []
    },
    {
      "cell_type": "markdown",
      "metadata": {
        "id": "aNL6CIvhzAhk"
      },
      "source": [
        "#Minimal Chain"
      ]
    },
    {
      "cell_type": "code",
      "metadata": {
        "id": "d1nQhRl1zDVx"
      },
      "source": [
        "class MinimalChain():\r\n",
        "  \r\n",
        "  #initialize while creating a chain\r\n",
        "  def __init__(self):\r\n",
        "    self.blocks = [self.get_genesis_block()]\r\n",
        "\r\n",
        "  def __eq__(self, other):\r\n",
        "    if isinstance(other, self.__class__):\r\n",
        "      return self.__dict__ == other.__dict__\r\n",
        "    else:\r\n",
        "      return False\r\n",
        "    \r\n",
        "  #defining the genesis block\r\n",
        "  def get_genesis_block(self):\r\n",
        "    return MinimalBlock(0,\r\n",
        "                      datetime.datetime.utcnow(),\r\n",
        "                      'Genesis',\r\n",
        "                      'arbitrary')\r\n",
        "  \r\n",
        "  #function to add a block\r\n",
        "  def add_block(self, data):\r\n",
        "    self.blocks.append(MinimalBlock(len(self.blocks),\r\n",
        "                                    datetime.datetime.utcnow(),\r\n",
        "                                    data,\r\n",
        "                                    self.blocks[len(self.blocks)-1].hash))\r\n",
        "    \r\n",
        "  #finding the chain size\r\n",
        "  def get_chain_size(self):\r\n",
        "    return len(self.blocks)-1\r\n",
        "\r\n",
        "  #function to verify the blocks\r\n",
        "  def verify(self, verbose=True):\r\n",
        "    flag=True\r\n",
        "    for i in range(1, len(self.blocks)):\r\n",
        "      if not self.blocks[i].verify():\r\n",
        "        flag = False\r\n",
        "        if verbose:\r\n",
        "          print(f'Wrong datatype(s) at the block {i}.')\r\n",
        "      if self.blocks[i].index != i:\r\n",
        "        flag = False\r\n",
        "        if verbose:\r\n",
        "          print(f'Wrong block index block {i}.')\r\n",
        "      if self.blocks[i-1].hash != self.blocks[i].previous_hash:\r\n",
        "        flag = False\r\n",
        "        if verbose:\r\n",
        "          print(f'Wrong previous hash at block {i}.')\r\n",
        "      if self.blocks[i].hash != self.blocks[i].hashing():\r\n",
        "        flag = False\r\n",
        "        if verbose:\r\n",
        "          print(f'Wrong hash at black {i}.')\r\n",
        "      if self.blocks[i-1].timestamp >= self.blocks[i].timestamp:\r\n",
        "        flag = False\r\n",
        "        if verbose:\r\n",
        "          print(f'Backdating at block{i}.')\r\n",
        "    \r\n",
        "    return flag\r\n",
        "\r\n",
        "  #forking the blocks\r\n",
        "  def fork(self, head='latest'):\r\n",
        "    if head in ['latest','whole','all']:\r\n",
        "      return copy.deepcopy(self)\r\n",
        "    else:\r\n",
        "      c=copy.deepcopy(self)\r\n",
        "      c.blocks = c.blocks[0:head+1]\r\n",
        "      return c\r\n",
        "\r\n",
        "  #getting the root of the chain\r\n",
        "  def get_root(self, chain_2):\r\n",
        "    min_chain_size = min(self.get_chain_size(), chain_2.get_chain_size())\r\n",
        "    for i in range(1, min_chain_size+1):\r\n",
        "      if self.blocks[i] != chain_2.blocks[i]:\r\n",
        "        return self.fork(i-1)\r\n",
        "    return self.fork(min_chain_size)"
      ],
      "execution_count": null,
      "outputs": []
    },
    {
      "cell_type": "markdown",
      "metadata": {
        "id": "iauU4lYxCGYC"
      },
      "source": [
        "#Minimal Block"
      ]
    },
    {
      "cell_type": "code",
      "metadata": {
        "id": "7Ec4zC8O0rxB"
      },
      "source": [
        "class MinimalBlock():\r\n",
        "  def __init__(self, index, timestamp, data, previous_hash):\r\n",
        "    self.index = index\r\n",
        "    self.timestamp = timestamp\r\n",
        "    self.data = data\r\n",
        "    self.previous_hash = previous_hash\r\n",
        "    self.hash = self.hashing()\r\n",
        "\r\n",
        "  def __eq__(self, other):\r\n",
        "    if isinstance(pther, self.__class__):\r\n",
        "      return self.__dict__ == other.__dict__\r\n",
        "    else:\r\n",
        "      return False\r\n",
        "  \r\n",
        "  #the hashing function\r\n",
        "  def hashing(self):\r\n",
        "    key= hashlib.sha256()\r\n",
        "    key.update(str(self.index).encode('utf-8'))\r\n",
        "    key.update(str(self.timestamp).encode('utf-8'))\r\n",
        "    key.update(str(self.data).encode('utf-8'))\r\n",
        "    key.update(str(self.previous_hash).encode('utf-8'))\r\n",
        "    return key.hexdigest()\r\n",
        "\r\n",
        "  #verification\r\n",
        "  def verify(self):\r\n",
        "    instances = [self.index, self.timestamp, self.data, self.previous_hash, self.hash]\r\n",
        "    types = [int, datetime.datetime, str, str]\r\n",
        "    if sum(map(lambda inst_, type_: isinstance(inst_, type_), instances, types)) == len(instances):\r\n",
        "      return True\r\n",
        "    else:\r\n",
        "      return False\r\n",
        "      "
      ],
      "execution_count": null,
      "outputs": []
    },
    {
      "cell_type": "markdown",
      "metadata": {
        "id": "GUPFIFoOFRf3"
      },
      "source": [
        "#Executing"
      ]
    },
    {
      "cell_type": "code",
      "metadata": {
        "colab": {
          "base_uri": "https://localhost:8080/"
        },
        "id": "sL6BQnxGKEkF",
        "outputId": "2c97155a-8f96-43b6-b407-5974ed30b5eb"
      },
      "source": [
        "#transaction as a dictionary\r\n",
        "txn = {'sender' : 'init',\r\n",
        "       'receiver' : 'init',\r\n",
        "       'amount': 0}\r\n",
        "p = 'y'\r\n",
        "\r\n",
        "#doing a transaction\r\n",
        "\r\n",
        "transaction_pool = []\r\n",
        "transaction_pool.clear()\r\n",
        "\r\n",
        "while (p=='y' or p=='Y'):\r\n",
        "  print('Recording a transaction...')\r\n",
        "  se = input('enter sender name : ')\r\n",
        "  re = input('enter receiver name : ')\r\n",
        "  amt = int(input('Enter the amount : '))\r\n",
        "\r\n",
        "  txn['sender'] = se\r\n",
        "  txn['receiver'] = re\r\n",
        "  txn['amount'] = amt\r\n",
        "\r\n",
        "  print('your transaction : ', txn)\r\n",
        "  transaction_pool.append(txn)\r\n",
        "\r\n",
        "  p = input('Press y to input another transaction into pool or any other key to exit...')\r\n",
        "    \r\n",
        "print('Your transactions are recorded.')\r\n",
        "print(transaction_pool)\r\n"
      ],
      "execution_count": null,
      "outputs": [
        {
          "output_type": "stream",
          "text": [
            "Recording a transaction...\n",
            "enter sender name : c\n",
            "enter receiver name : d\n",
            "Enter the amount : 5\n",
            "your transaction :  {'sender': 'c', 'receiver': 'd', 'amount': 5}\n",
            "Press y to input another transaction into pool or any other key to exit...p\n",
            "Your transactions are recorded.\n",
            "[{'sender': 'c', 'receiver': 'd', 'amount': 5}]\n"
          ],
          "name": "stdout"
        }
      ]
    },
    {
      "cell_type": "code",
      "metadata": {
        "id": "yyePY0YuMdAk"
      },
      "source": [
        "#Making block from the transaction pool\r\n",
        "\r\n",
        "#Executing this would take all the transaction from the pool and enocode them\r\n",
        "#into the block and then would empty the pool\r\n",
        "\r\n",
        "d = MinimalChain() #Starting the chain\r\n",
        "d.add_block(transaction_pool)\r\n",
        "\r\n"
      ],
      "execution_count": null,
      "outputs": []
    },
    {
      "cell_type": "code",
      "metadata": {
        "colab": {
          "base_uri": "https://localhost:8080/"
        },
        "id": "exok7-ZvOIBv",
        "outputId": "715d039d-dab4-4dee-e1bf-aa0d326225be"
      },
      "source": [
        "#Displaying the chain\r\n",
        "for i in d.blocks:\r\n",
        "  print(\"Index : \", i.index)\r\n",
        "  print(\"Time Stamp : \", i.timestamp)\r\n",
        "  print(\"Data : \", i.data)\r\n",
        "  print(\"Previous Hash : \", i.previous_hash)\r\n",
        "  print(\"Hash : \", i.hash)\r\n",
        "  print()"
      ],
      "execution_count": null,
      "outputs": [
        {
          "output_type": "stream",
          "text": [
            "Index :  0\n",
            "Time Stamp :  2021-01-18 11:31:03.265893\n",
            "Data :  Genesis\n",
            "Previous Hash :  arbitrary\n",
            "Hash :  a6aadb2daf97e1cf680cf8ee30f3dc9ed2a555753e818155c6d238c77e5e0a45\n",
            "\n",
            "Index :  1\n",
            "Time Stamp :  2021-01-18 11:31:03.265949\n",
            "Data :  [{'sender': 'c', 'receiver': 'd', 'amount': 5}]\n",
            "Previous Hash :  a6aadb2daf97e1cf680cf8ee30f3dc9ed2a555753e818155c6d238c77e5e0a45\n",
            "Hash :  d0c7fef38de93e116140d8d34fe829d60c91136643a3a785f01c43413a02842c\n",
            "\n"
          ],
          "name": "stdout"
        }
      ]
    },
    {
      "cell_type": "markdown",
      "metadata": {
        "id": "OG-UAVPlLJxR"
      },
      "source": [
        "#Automated Execution"
      ]
    },
    {
      "cell_type": "code",
      "metadata": {
        "colab": {
          "base_uri": "https://localhost:8080/"
        },
        "id": "hxH5CGAMGVZw",
        "outputId": "4ababc0a-0347-436a-e450-d4c454e1d568"
      },
      "source": [
        "c = MinimalChain() # Start a chain\r\n",
        "for i in range(1,20+1):\r\n",
        "    c.add_block(f'This is block {i} of my first chain.')\r\n",
        "\r\n",
        "#showing the made blocks at a glance\r\n",
        "for i in c.blocks:\r\n",
        "  print(i)"
      ],
      "execution_count": null,
      "outputs": [
        {
          "output_type": "stream",
          "text": [
            "<__main__.MinimalBlock object at 0x7fb04f2bcac8>\n",
            "<__main__.MinimalBlock object at 0x7fb04f277a58>\n",
            "<__main__.MinimalBlock object at 0x7fb04f277208>\n",
            "<__main__.MinimalBlock object at 0x7fb04f277080>\n",
            "<__main__.MinimalBlock object at 0x7fb04f277278>\n",
            "<__main__.MinimalBlock object at 0x7fb04f277358>\n",
            "<__main__.MinimalBlock object at 0x7fb04f2773c8>\n",
            "<__main__.MinimalBlock object at 0x7fb04f277438>\n",
            "<__main__.MinimalBlock object at 0x7fb04f277470>\n",
            "<__main__.MinimalBlock object at 0x7fb04f2774a8>\n",
            "<__main__.MinimalBlock object at 0x7fb04f2774e0>\n",
            "<__main__.MinimalBlock object at 0x7fb04f277518>\n",
            "<__main__.MinimalBlock object at 0x7fb04f277550>\n",
            "<__main__.MinimalBlock object at 0x7fb04f277400>\n",
            "<__main__.MinimalBlock object at 0x7fb04f277390>\n",
            "<__main__.MinimalBlock object at 0x7fb04f277588>\n",
            "<__main__.MinimalBlock object at 0x7fb04f277748>\n",
            "<__main__.MinimalBlock object at 0x7fb04f2779e8>\n",
            "<__main__.MinimalBlock object at 0x7fb04f277a20>\n",
            "<__main__.MinimalBlock object at 0x7fb04f277ac8>\n",
            "<__main__.MinimalBlock object at 0x7fb04f277b38>\n"
          ],
          "name": "stdout"
        }
      ]
    },
    {
      "cell_type": "code",
      "metadata": {
        "colab": {
          "base_uri": "https://localhost:8080/"
        },
        "id": "8eE7_nEQGWLy",
        "outputId": "1c2086d1-db25-4220-b3c7-a0749da9d8c0"
      },
      "source": [
        "#One block in detail\r\n",
        "n = int(input('Enter the block number you want to check the details of... '))\r\n",
        "print(\"Index : \", c.blocks[n].index)\r\n",
        "print(\"Time Stamp : \", c.blocks[n].timestamp)\r\n",
        "print(\"Data : \", c.blocks[n].data)\r\n",
        "if n != 0:\r\n",
        "  print(\"Previous Hash : \", c.blocks[n].previous_hash)\r\n",
        "print(\"Hash : \", c.blocks[n].hash)"
      ],
      "execution_count": null,
      "outputs": [
        {
          "output_type": "stream",
          "text": [
            "Enter the block number you want to check the details of... 1\n",
            "Index :  1\n",
            "Time Stamp :  2021-01-18 10:48:29.441046\n",
            "Data :  This is block 1 of my first chain.\n",
            "Previous Hash :  03a3c5e6f0c4e182bccc162d85e980afafe879b972a7fa60c430ea6620dbf60d\n",
            "Hash :  880baf257d99c3db017e8102855548254633f4296dea5701c3dee6732004af7e\n"
          ],
          "name": "stdout"
        }
      ]
    },
    {
      "cell_type": "code",
      "metadata": {
        "colab": {
          "base_uri": "https://localhost:8080/"
        },
        "id": "cQPeQqqDGpxC",
        "outputId": "d6913721-7094-4163-a5c5-820512643a54"
      },
      "source": [
        "#Displaying all blocks Details\r\n",
        "for i in c.blocks:\r\n",
        "  print(\"Index : \", i.index)\r\n",
        "  print(\"Time Stamp : \", i.timestamp)\r\n",
        "  print(\"Data : \", i.data)\r\n",
        "  print(\"Previous Hash : \", i.previous_hash)\r\n",
        "  print(\"Hash : \", i.hash)\r\n",
        "  print()"
      ],
      "execution_count": null,
      "outputs": [
        {
          "output_type": "stream",
          "text": [
            "Index :  0\n",
            "Time Stamp :  2021-01-18 10:48:29.440950\n",
            "Data :  Genesis\n",
            "Previous Hash :  arbitrary\n",
            "Hash :  03a3c5e6f0c4e182bccc162d85e980afafe879b972a7fa60c430ea6620dbf60d\n",
            "\n",
            "Index :  1\n",
            "Time Stamp :  2021-01-18 10:48:29.441046\n",
            "Data :  This is block 1 of my first chain.\n",
            "Previous Hash :  03a3c5e6f0c4e182bccc162d85e980afafe879b972a7fa60c430ea6620dbf60d\n",
            "Hash :  880baf257d99c3db017e8102855548254633f4296dea5701c3dee6732004af7e\n",
            "\n",
            "Index :  2\n",
            "Time Stamp :  2021-01-18 10:48:29.441058\n",
            "Data :  This is block 2 of my first chain.\n",
            "Previous Hash :  880baf257d99c3db017e8102855548254633f4296dea5701c3dee6732004af7e\n",
            "Hash :  1d78865a6ded9900a82b1b2fa365f0030593c6bd50892a8d0fcb1aff5aa0fe7f\n",
            "\n",
            "Index :  3\n",
            "Time Stamp :  2021-01-18 10:48:29.441065\n",
            "Data :  This is block 3 of my first chain.\n",
            "Previous Hash :  1d78865a6ded9900a82b1b2fa365f0030593c6bd50892a8d0fcb1aff5aa0fe7f\n",
            "Hash :  67706c8a753811f9ef4213f65fc46b35874bafcb46e7e984fc4ef88e44b25cb9\n",
            "\n",
            "Index :  4\n",
            "Time Stamp :  2021-01-18 10:48:29.441071\n",
            "Data :  This is block 4 of my first chain.\n",
            "Previous Hash :  67706c8a753811f9ef4213f65fc46b35874bafcb46e7e984fc4ef88e44b25cb9\n",
            "Hash :  49157a66f91a9c0a05f9738ba0a42196675f41ed4d3a7082064c03b36f4be627\n",
            "\n",
            "Index :  5\n",
            "Time Stamp :  2021-01-18 10:48:29.441077\n",
            "Data :  This is block 5 of my first chain.\n",
            "Previous Hash :  49157a66f91a9c0a05f9738ba0a42196675f41ed4d3a7082064c03b36f4be627\n",
            "Hash :  ec5eadc2082866ca52d24aeea167374df0cd4c28f4b2253e58f285ce95752858\n",
            "\n",
            "Index :  6\n",
            "Time Stamp :  2021-01-18 10:48:29.441083\n",
            "Data :  This is block 6 of my first chain.\n",
            "Previous Hash :  ec5eadc2082866ca52d24aeea167374df0cd4c28f4b2253e58f285ce95752858\n",
            "Hash :  5ddd5dd4d743b2f4acb20a29791c2a209c6ba6e3e219a21522cd362954442e3c\n",
            "\n",
            "Index :  7\n",
            "Time Stamp :  2021-01-18 10:48:29.441089\n",
            "Data :  This is block 7 of my first chain.\n",
            "Previous Hash :  5ddd5dd4d743b2f4acb20a29791c2a209c6ba6e3e219a21522cd362954442e3c\n",
            "Hash :  cd49c6e05ef402fc7bf9894d418fcd1078053ecfae48bae83752b8e46dd05b35\n",
            "\n",
            "Index :  8\n",
            "Time Stamp :  2021-01-18 10:48:29.441095\n",
            "Data :  This is block 8 of my first chain.\n",
            "Previous Hash :  cd49c6e05ef402fc7bf9894d418fcd1078053ecfae48bae83752b8e46dd05b35\n",
            "Hash :  a7ad70f80db454cf093c6d545167f15f8d4c022b5393af97d2535d5efae925c5\n",
            "\n",
            "Index :  9\n",
            "Time Stamp :  2021-01-18 10:48:29.441112\n",
            "Data :  This is block 9 of my first chain.\n",
            "Previous Hash :  a7ad70f80db454cf093c6d545167f15f8d4c022b5393af97d2535d5efae925c5\n",
            "Hash :  0735b3d5460ef2d701ca339e4c6547be6017ebad3e2c4a2dde19ca8200b57b88\n",
            "\n",
            "Index :  10\n",
            "Time Stamp :  2021-01-18 10:48:29.441118\n",
            "Data :  This is block 10 of my first chain.\n",
            "Previous Hash :  0735b3d5460ef2d701ca339e4c6547be6017ebad3e2c4a2dde19ca8200b57b88\n",
            "Hash :  d8ddd7eb27e653003097e8d918e05d48a6d646a78db90cba5c42db4ad0a187f1\n",
            "\n",
            "Index :  11\n",
            "Time Stamp :  2021-01-18 10:48:29.441124\n",
            "Data :  This is block 11 of my first chain.\n",
            "Previous Hash :  d8ddd7eb27e653003097e8d918e05d48a6d646a78db90cba5c42db4ad0a187f1\n",
            "Hash :  a1b30c8d0bf875392d2fe25ebc4af41134f952f2c5e6c2fd63b9e3693f4cbb02\n",
            "\n",
            "Index :  12\n",
            "Time Stamp :  2021-01-18 10:48:29.441130\n",
            "Data :  This is block 12 of my first chain.\n",
            "Previous Hash :  a1b30c8d0bf875392d2fe25ebc4af41134f952f2c5e6c2fd63b9e3693f4cbb02\n",
            "Hash :  5858489ab5467bc9366015a5103b8407e1dc582eaf0f7f292837e2100dde3f73\n",
            "\n",
            "Index :  13\n",
            "Time Stamp :  2021-01-18 10:48:29.441136\n",
            "Data :  This is block 13 of my first chain.\n",
            "Previous Hash :  5858489ab5467bc9366015a5103b8407e1dc582eaf0f7f292837e2100dde3f73\n",
            "Hash :  c79f51fb787d05a3a4fe03530904ecb4cbeae0e3bba36416984d02cdb1502f7d\n",
            "\n",
            "Index :  14\n",
            "Time Stamp :  2021-01-18 10:48:29.441142\n",
            "Data :  This is block 14 of my first chain.\n",
            "Previous Hash :  c79f51fb787d05a3a4fe03530904ecb4cbeae0e3bba36416984d02cdb1502f7d\n",
            "Hash :  0492610f4c66f1949c4015a8709f9290a4c6620c208c8ecf766371c31425a553\n",
            "\n",
            "Index :  15\n",
            "Time Stamp :  2021-01-18 10:48:29.441148\n",
            "Data :  This is block 15 of my first chain.\n",
            "Previous Hash :  0492610f4c66f1949c4015a8709f9290a4c6620c208c8ecf766371c31425a553\n",
            "Hash :  6609e0577d0c7b555f7a0fcb034973138152113129c94d50f7cd29ad3aa93e78\n",
            "\n",
            "Index :  16\n",
            "Time Stamp :  2021-01-18 10:48:29.441154\n",
            "Data :  This is block 16 of my first chain.\n",
            "Previous Hash :  6609e0577d0c7b555f7a0fcb034973138152113129c94d50f7cd29ad3aa93e78\n",
            "Hash :  ca1465ec4e6c9713d5d4f8ef2c0ec21956f2132c7e3fa80d4d60ede5ce1b7d8a\n",
            "\n",
            "Index :  17\n",
            "Time Stamp :  2021-01-18 10:48:29.441167\n",
            "Data :  This is block 17 of my first chain.\n",
            "Previous Hash :  ca1465ec4e6c9713d5d4f8ef2c0ec21956f2132c7e3fa80d4d60ede5ce1b7d8a\n",
            "Hash :  d9ef297abe67722041ffabb2b58e962f3a8ae3a825060a2443deb6003d054e51\n",
            "\n",
            "Index :  18\n",
            "Time Stamp :  2021-01-18 10:48:29.441173\n",
            "Data :  This is block 18 of my first chain.\n",
            "Previous Hash :  d9ef297abe67722041ffabb2b58e962f3a8ae3a825060a2443deb6003d054e51\n",
            "Hash :  2b230cf1dc9ffc52720756d9f3f76d810f5ddcac4b7b953a7942f39e084d6625\n",
            "\n",
            "Index :  19\n",
            "Time Stamp :  2021-01-18 10:48:29.441179\n",
            "Data :  This is block 19 of my first chain.\n",
            "Previous Hash :  2b230cf1dc9ffc52720756d9f3f76d810f5ddcac4b7b953a7942f39e084d6625\n",
            "Hash :  0181012f43dd642b4201688acbd5593f3ef60397866f4da2a1ced1ef380de23f\n",
            "\n",
            "Index :  20\n",
            "Time Stamp :  2021-01-18 10:48:29.441185\n",
            "Data :  This is block 20 of my first chain.\n",
            "Previous Hash :  0181012f43dd642b4201688acbd5593f3ef60397866f4da2a1ced1ef380de23f\n",
            "Hash :  eeb38f0123c94ca566d052a03d20408c51c9c198a183f4c23d542c89b3959758\n",
            "\n"
          ],
          "name": "stdout"
        }
      ]
    }
  ]
}